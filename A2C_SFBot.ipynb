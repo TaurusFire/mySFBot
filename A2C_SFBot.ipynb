{
 "cells": [
  {
   "cell_type": "code",
   "execution_count": 1,
   "metadata": {},
   "outputs": [
    {
     "name": "stderr",
     "output_type": "stream",
     "text": [
      "/Users/Cheks/Desktop/Durham /Durham Part 2/Data Science/Project/mySFBot/.venv/lib/python3.8/site-packages/tqdm/auto.py:21: TqdmWarning: IProgress not found. Please update jupyter and ipywidgets. See https://ipywidgets.readthedocs.io/en/stable/user_install.html\n",
      "  from .autonotebook import tqdm as notebook_tqdm\n"
     ]
    }
   ],
   "source": [
    "#import dependencies\n",
    "import retro\n",
    "#import time to slow down the game with time.sleep\n",
    "import time\n",
    "import os\n",
    "\n",
    "#import environment base class, import multibinary and box for the correct action space shapes\n",
    "from gym import Env\n",
    "from gym.spaces import MultiBinary, Box\n",
    "\n",
    "#numpy helps calculate frame delta\n",
    "import numpy as np\n",
    "#import opencv for greyscaling\n",
    "import cv2\n",
    "\n",
    "#import matplotlib for plotting the image\n",
    "from matplotlib import pyplot as plt\n",
    "\n",
    "#To train our model we will be using optuna. Will allow us to train and tune at the same time\n",
    "#PPO (proximal policy optimization - model free RL algos that search in the space \n",
    "#of policies rather than assigning values to state-action pairs) \n",
    "#hyperparameters to tune: n_steps: batch size, gamma: discount rate for calculating returns, \n",
    "#learning_rate: learning coefficient for optimizer, clip_range: clipping amount for advantage calc,\n",
    "#gae_lambda: advantage smoothing parameter\n",
    "\n",
    "#importing the optimization frame -HPO\n",
    "import optuna\n",
    "\n",
    "#gives PPO algo RL\n",
    "from stable_baselines3 import PPO, A2C, DQN\n",
    "\n",
    "# evaluate policy allows you to calculate key performance indicators (KPIS) for the algo attached\n",
    "# to the env. Evaluate policy allows you to see how a agent performs in a specific environment\n",
    "from stable_baselines3.common.evaluation import evaluate_policy\n",
    "\n",
    "#import the sb3 monitor for logging. wrap our env inside a vectorised wrapper (concept used to \n",
    "#wrap an object, data structure, or piece of code into a standardized interface or behaviour) \n",
    "#by default we are not able to access the mean ep reward or length. \n",
    "# using a monitor we can use sb3 to extract it out\n",
    "from stable_baselines3.common.monitor import Monitor\n",
    "import tensorboard\n",
    "#import vec wrappers to vectorize and frame stack. dummyvecenv wraps the env inside a vectorized\n",
    "#wrapper.\n",
    "from stable_baselines3.common.vec_env import DummyVecEnv, VecFrameStack\n",
    "from stable_baselines3.common.callbacks import BaseCallback"
   ]
  },
  {
   "cell_type": "markdown",
   "metadata": {},
   "source": [
    "#define the environment: observation space, action space\n"
   ]
  },
  {
   "cell_type": "code",
   "execution_count": 2,
   "metadata": {},
   "outputs": [],
   "source": [
    "class StreetFighter(Env):\n",
    "\n",
    "    def __init__(self):\n",
    "        super().__init__() \n",
    "        #the observation space is a 84x84 box with each value correp to a colour\n",
    "        self.observation_space = Box(low=0, high=255, \n",
    "                                     shape=(84,84,1), dtype=np.uint8)\n",
    "        \n",
    "        #12-long vector where each action corresps to a 0 or a 1\n",
    "        self.action_space = MultiBinary(12)\n",
    "        \n",
    "        #start up an instance of the game\n",
    "        #use restricted actions ensures that only valid button combinations are chosen\n",
    "        self.game = retro.make(game=\"StreetFighterIISpecialChampionEdition-Genesis\",\n",
    "                               use_restricted_actions = retro.Actions.FILTERED)\n",
    "\n",
    "    def preprocess(self, observation):\n",
    "        #turn to grey\n",
    "        gray = cv2.cvtColor(observation, cv2.COLOR_BGR2GRAY)\n",
    "        #resize\n",
    "        resize = cv2.resize(gray, (84,84), interpolation= cv2.INTER_CUBIC)\n",
    "        #need to regain the channels value. need this for stable baselines (the RL package we use here)\n",
    "        channels = np.reshape(resize, (84,84,1))\n",
    "        return channels\n",
    "    \n",
    "    def step(self,action):\n",
    "        #take a step\n",
    "        obs, reward, done, info = self.game.step(action)\n",
    "\n",
    "        #want to preprocess the observation\n",
    "        obs = self.preprocess(obs)\n",
    "\n",
    "        #frame delta: pixel change\n",
    "        frame_delta = obs - self.previous_frame\n",
    "        self.previous_frame = obs\n",
    "\n",
    "        #reshape the reward function. want the change in score, so we just subtract scores.\n",
    "        #what other info can the game give us?\n",
    "        reward = info['score'] - self.score\n",
    "        self.score = info['score']\n",
    "\n",
    "        return frame_delta, reward, done, info\n",
    "    \n",
    "    def reset(self):\n",
    "        # Return the first frame \n",
    "        obs = self.game.reset()\n",
    "        obs = self.preprocess(obs) \n",
    "        self.previous_frame = obs \n",
    "        \n",
    "        # Create a attribute to hold the score delta \n",
    "        self.score = 0 \n",
    "        return obs\n",
    "    \n",
    "    def close(self):\n",
    "        self.game.close()"
   ]
  },
  {
   "cell_type": "markdown",
   "metadata": {},
   "source": [
    "Hyperparameter tuning"
   ]
  },
  {
   "cell_type": "code",
   "execution_count": 3,
   "metadata": {},
   "outputs": [],
   "source": [
    "\"\"\"setting up directories so that models from any trial are \n",
    "accessible and don't have to train from the beginninbg\"\"\"\n",
    "LOG_DIR = './A2Clogs/'\n",
    "OPT_DIR = './A2Copt/'"
   ]
  },
  {
   "cell_type": "code",
   "execution_count": 4,
   "metadata": {},
   "outputs": [],
   "source": [
    "\n",
    "def objectiveA2C(trial):\n",
    "    return {\n",
    "\n",
    "        'n_steps': trial.suggest_int('n_steps',256,2048),\n",
    "\n",
    "        'gamma': trial.suggest_float('gamma',0.8,0.9999, log=True),\n",
    "\n",
    "        'learning_rate': trial.suggest_float('learning_rate',1e-5,1e-4, log=True),\n",
    "\n",
    "\n",
    "        'gae_lambda': trial.suggest_float('gae_lambda',0.8,0.99)\n",
    "    }"
   ]
  },
  {
   "cell_type": "code",
   "execution_count": 6,
   "metadata": {},
   "outputs": [],
   "source": [
    "def optimize_agent(trial):\n",
    "    #try:\n",
    "        #training loop\n",
    "        #obtain set of hyperparameters\n",
    "        model_params = objectiveA2C(trial)\n",
    "\n",
    "        #create environment\n",
    "        env = StreetFighter()\n",
    "        env = Monitor(env, LOG_DIR)\n",
    "        env =  DummyVecEnv([lambda:env])\n",
    "        env = VecFrameStack(env, 4, channels_order='last')\n",
    "        print(\"made env\")\n",
    "        model = A2C('CnnPolicy',env, tensorboard_log=LOG_DIR, verbose=0, **model_params)\n",
    "        #policy_kwargs=dict(normalize_images=False)\n",
    "        print(\"made model\")\n",
    "\n",
    "        model.learn(total_timesteps=1)\n",
    "        print(\"model learned\")\n",
    "\n",
    "\n",
    "        mean_reward, __ = evaluate_policy(model, env, n_eval_episodes=2)\n",
    "        env.close()\n",
    "\n",
    "        SAVE_PATH = os.path.join(OPT_DIR, 'trial_{}_best_model'.format(trial.number))\n",
    "        model.save(SAVE_PATH)\n",
    "        \n",
    "        return mean_reward\n",
    "    #except Exception as e:\n",
    "     #   return -1000\n",
    "    \n",
    "\n"
   ]
  },
  {
   "cell_type": "code",
   "execution_count": 7,
   "metadata": {},
   "outputs": [
    {
     "ename": "NameError",
     "evalue": "name 'env' is not defined",
     "output_type": "error",
     "traceback": [
      "\u001b[0;31m---------------------------------------------------------------------------\u001b[0m",
      "\u001b[0;31mNameError\u001b[0m                                 Traceback (most recent call last)",
      "Cell \u001b[0;32mIn[7], line 1\u001b[0m\n\u001b[0;32m----> 1\u001b[0m env\u001b[39m.\u001b[39mclose()\n",
      "\u001b[0;31mNameError\u001b[0m: name 'env' is not defined"
     ]
    }
   ],
   "source": [
    "env.close()"
   ]
  },
  {
   "cell_type": "code",
   "execution_count": 8,
   "metadata": {},
   "outputs": [
    {
     "name": "stderr",
     "output_type": "stream",
     "text": [
      "[I 2023-08-09 19:27:40,558] A new study created in memory with name: no-name-ba2b52bd-9e82-46db-9edd-01bd7e140732\n"
     ]
    },
    {
     "name": "stdout",
     "output_type": "stream",
     "text": [
      "made env\n",
      "made model\n",
      "model learned\n"
     ]
    },
    {
     "name": "stderr",
     "output_type": "stream",
     "text": [
      "[I 2023-08-09 19:28:59,219] Trial 0 finished with value: 2000.0 and parameters: {'n_steps': 1583, 'gamma': 0.9718653200677885, 'learning_rate': 6.812184740303624e-05, 'gae_lambda': 0.8434679891328115}. Best is trial 0 with value: 2000.0.\n"
     ]
    },
    {
     "name": "stdout",
     "output_type": "stream",
     "text": [
      "made env\n",
      "made model\n",
      "model learned\n"
     ]
    },
    {
     "name": "stderr",
     "output_type": "stream",
     "text": [
      "[I 2023-08-09 19:29:43,861] Trial 1 finished with value: 1000.0 and parameters: {'n_steps': 1993, 'gamma': 0.801836750907637, 'learning_rate': 5.8439762840386556e-05, 'gae_lambda': 0.8557707825016173}. Best is trial 0 with value: 2000.0.\n"
     ]
    }
   ],
   "source": [
    "#create the experiment/study. since returning a positive value, want to maximise the function. \n",
    "study = optuna.create_study(direction='maximize')\n",
    "\n",
    "#trials refers to how many sets of hyperparameters we are going to tune\n",
    "#the jobs param (may be deprecated soon) shows how many parallel environments \n",
    "#are trained at the same time. gym-retro is not available for parallelization\n",
    "study.optimize(optimize_agent, n_trials=2, n_jobs=1)"
   ]
  },
  {
   "cell_type": "code",
   "execution_count": 9,
   "metadata": {},
   "outputs": [
    {
     "data": {
      "text/plain": [
       "FrozenTrial(number=0, state=TrialState.COMPLETE, values=[2000.0], datetime_start=datetime.datetime(2023, 8, 9, 19, 27, 40, 564200), datetime_complete=datetime.datetime(2023, 8, 9, 19, 28, 59, 218648), params={'n_steps': 1583, 'gamma': 0.9718653200677885, 'learning_rate': 6.812184740303624e-05, 'gae_lambda': 0.8434679891328115}, user_attrs={}, system_attrs={}, intermediate_values={}, distributions={'n_steps': IntDistribution(high=2048, log=False, low=256, step=1), 'gamma': FloatDistribution(high=0.9999, log=True, low=0.8, step=None), 'learning_rate': FloatDistribution(high=0.0001, log=True, low=1e-05, step=None), 'gae_lambda': FloatDistribution(high=0.99, log=False, low=0.8, step=None)}, trial_id=0, value=None)"
      ]
     },
     "execution_count": 9,
     "metadata": {},
     "output_type": "execute_result"
    }
   ],
   "source": [
    "study.best_params\n",
    "study.best_trial"
   ]
  },
  {
   "cell_type": "code",
   "execution_count": 11,
   "metadata": {},
   "outputs": [],
   "source": [
    "#how to load a model\n",
    "model = A2C.load(os.path.join(OPT_DIR, \"trial_0_best_model\"))"
   ]
  },
  {
   "cell_type": "code",
   "execution_count": 10,
   "metadata": {},
   "outputs": [],
   "source": [
    "#callbacks are functions that is passed as an argument to another function or method\n",
    "\n",
    "class TrainAndLoggingCallback(BaseCallback):\n",
    "\n",
    "    def __init__(self, check_freq, save_path, verbose=1):\n",
    "        super(TrainAndLoggingCallback, self).__init__(verbose)\n",
    "        self.check_freq = check_freq\n",
    "        self.save_path = save_path\n",
    "\n",
    "    def _init_callback(self):\n",
    "        if self.save_path is not None:\n",
    "            os.makedirs(self.save_path, exist_ok=True)\n",
    "\n",
    "    def _on_step(self):\n",
    "        if self.n_calls % self.check_freq == 0:\n",
    "            model_path = os.path.join(self.save_path, 'best_model_{}'.format(self.n_calls))\n",
    "            self.model.save(model_path)\n",
    "\n",
    "        return True"
   ]
  },
  {
   "cell_type": "code",
   "execution_count": 12,
   "metadata": {},
   "outputs": [],
   "source": [
    "CHECKPOINT_DIR = \"./A2Ctrain/\""
   ]
  },
  {
   "cell_type": "code",
   "execution_count": 13,
   "metadata": {},
   "outputs": [],
   "source": [
    "#save the model every 10,000 steps at checkpoint_dir\n",
    "callback = TrainAndLoggingCallback(check_freq=10000, save_path=CHECKPOINT_DIR)"
   ]
  },
  {
   "cell_type": "markdown",
   "metadata": {},
   "source": [
    "Training the Model"
   ]
  },
  {
   "cell_type": "code",
   "execution_count": null,
   "metadata": {},
   "outputs": [],
   "source": [
    "#create env with preprocessing\n",
    "\n",
    "env = StreetFighter()\n",
    "env = Monitor(env, LOG_DIR)\n",
    "env = DummyVecEnv([lambda:env])\n",
    "env = VecFrameStack(env, 4, channels_order='last')"
   ]
  },
  {
   "cell_type": "code",
   "execution_count": null,
   "metadata": {},
   "outputs": [],
   "source": [
    "#create new instance of policy, using the best parameters\n",
    "model_params = study.best_params \n",
    "#set the number of steps, n_steps, to the nearest multiple of 64\n",
    "model_params['n_steps'] = 1920\n",
    "model_params\n",
    "\"\"\"{'n_steps': 1920,\n",
    " 'gamma': 0.994678978648347,\n",
    " 'learning_rate': 1.2638962000814747e-05,\n",
    " 'clip_range': 0.30896852248525797,\n",
    " 'gae_lambda': 0.8387508950925905}\"\"\""
   ]
  },
  {
   "cell_type": "code",
   "execution_count": null,
   "metadata": {},
   "outputs": [],
   "source": [
    "model = PPO('CnnPolicy',env, tensorboard_log=LOG_DIR, verbose=0, **model_params, policy_kwargs=dict(normalize_images=False))\n",
    "model.load(os.path.join(OPT_DIR, 'trial_1_best_model.zip'))\n",
    "model.learn(total_timesteps=100000, callback= callback)"
   ]
  },
  {
   "cell_type": "markdown",
   "metadata": {},
   "source": [
    "Evaluating the Model"
   ]
  },
  {
   "cell_type": "code",
   "execution_count": null,
   "metadata": {},
   "outputs": [],
   "source": [
    "#input the path of the model you want to evaluate\n",
    "model = PPO.load()"
   ]
  },
  {
   "cell_type": "code",
   "execution_count": null,
   "metadata": {},
   "outputs": [],
   "source": [
    "mean_reward, _ = evaluate_policy(model, env, render=True, n_eval_episodes=1)"
   ]
  },
  {
   "cell_type": "code",
   "execution_count": null,
   "metadata": {},
   "outputs": [],
   "source": [
    "#(maybe also load and check the hyperparameter tuned models?)"
   ]
  },
  {
   "cell_type": "markdown",
   "metadata": {},
   "source": [
    "Testing the Model"
   ]
  },
  {
   "cell_type": "code",
   "execution_count": null,
   "metadata": {},
   "outputs": [],
   "source": [
    "# Reset game to starting state\n",
    "obs = env.reset()\n",
    "# Set flag to flase. Then predict using the model.\n",
    "done = False\n",
    "for game in range(1): \n",
    "    while not done: \n",
    "        if done: \n",
    "            obs = env.reset()\n",
    "        env.render()\n",
    "        action = model.predict(obs)[0]\n",
    "        obs, reward, done, info = env.step(action)\n",
    "        time.sleep(0.01)\n",
    "        print(reward)\n",
    "\n",
    "#Can also have a separate testing notebook alongside the training notebook \n",
    "# so you can test and train at the same time and check you are headed in the right \n",
    "# direction - so don't need to wait until the end to see if the model is performing well"
   ]
  }
 ],
 "metadata": {
  "kernelspec": {
   "display_name": ".venv",
   "language": "python",
   "name": "python3"
  },
  "language_info": {
   "codemirror_mode": {
    "name": "ipython",
    "version": 3
   },
   "file_extension": ".py",
   "mimetype": "text/x-python",
   "name": "python",
   "nbconvert_exporter": "python",
   "pygments_lexer": "ipython3",
   "version": "3.8.0"
  },
  "orig_nbformat": 4
 },
 "nbformat": 4,
 "nbformat_minor": 2
}
