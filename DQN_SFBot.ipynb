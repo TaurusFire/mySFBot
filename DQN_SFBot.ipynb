{
 "cells": [
  {
   "cell_type": "code",
   "execution_count": null,
   "metadata": {},
   "outputs": [],
   "source": [
    "#import dependencies\n",
    "import retro\n",
    "#import time to slow down the game with time.sleep\n",
    "import time\n",
    "import os\n",
    "\n",
    "#import environment base class, import multibinary and box for the correct action space shapes\n",
    "from gym import Env\n",
    "from gym.spaces import MultiBinary, Box\n",
    "\n",
    "#numpy helps calculate frame delta\n",
    "import numpy as np\n",
    "#import opencv for greyscaling\n",
    "import cv2\n",
    "\n",
    "#import matplotlib for plotting the image\n",
    "from matplotlib import pyplot as plt\n",
    "\n",
    "#To train our model we will be using optuna. Will allow us to train and tune at the same time\n",
    "#PPO (proximal policy optimization - model free RL algos that search in the space \n",
    "#of policies rather than assigning values to state-action pairs) \n",
    "#hyperparameters to tune: n_steps: batch size, gamma: discount rate for calculating returns, \n",
    "#learning_rate: learning coefficient for optimizer, clip_range: clipping amount for advantage calc,\n",
    "#gae_lambda: advantage smoothing parameter\n",
    "\n",
    "#importing the optimization frame -HPO\n",
    "import optuna\n",
    "\n",
    "#gives PPO algo RL\n",
    "from stable_baselines3 import PPO, A2C, DQN\n",
    "\n",
    "# evaluate policy allows you to calculate key performance indicators (KPIS) for the algo attached\n",
    "# to the env. Evaluate policy allows you to see how a agent performs in a specific environment\n",
    "from stable_baselines3.common.evaluation import evaluate_policy\n",
    "\n",
    "#import the sb3 monitor for logging. wrap our env inside a vectorised wrapper (concept used to \n",
    "#wrap an object, data structure, or piece of code into a standardized interface or behaviour) \n",
    "#by default we are not able to access the mean ep reward or length. \n",
    "# using a monitor we can use sb3 to extract it out\n",
    "from stable_baselines3.common.monitor import Monitor\n",
    "import tensorboard\n",
    "#import vec wrappers to vectorize and frame stack. dummyvecenv wraps the env inside a vectorized\n",
    "#wrapper.\n",
    "from stable_baselines3.common.vec_env import DummyVecEnv, VecFrameStack\n",
    "from stable_baselines3.common.callbacks import BaseCallback"
   ]
  },
  {
   "cell_type": "code",
   "execution_count": null,
   "metadata": {},
   "outputs": [],
   "source": [
    "class StreetFighter(Env):\n",
    "\n",
    "    def __init__(self):\n",
    "        super().__init__() \n",
    "        #the observation space is a 84x84 box with each value correp to a colour\n",
    "        self.observation_space = Box(low=0, high=255, \n",
    "                                     shape=(84,84,1), dtype=np.uint8)\n",
    "        \n",
    "        #12-long vector where each action corresps to a 0 or a 1\n",
    "        self.action_space = MultiBinary(12)\n",
    "        \n",
    "        #start up an instance of the game\n",
    "        #use restricted actions ensures that only valid button combinations are chosen\n",
    "        self.game = retro.make(game=\"StreetFighterIISpecialChampionEdition-Genesis\",\n",
    "                               use_restricted_actions = retro.Actions.FILTERED)\n",
    "\n",
    "    def preprocess(self, observation):\n",
    "        #turn to grey\n",
    "        gray = cv2.cvtColor(observation, cv2.COLOR_BGR2GRAY)\n",
    "        #resize\n",
    "        resize = cv2.resize(gray, (84,84), interpolation= cv2.INTER_CUBIC)\n",
    "        #need to regain the channels value. need this for stable baselines (the RL package we use here)\n",
    "        channels = np.reshape(resize, (84,84,1))\n",
    "        return channels\n",
    "    \n",
    "    def step(self,action):\n",
    "        #take a step\n",
    "        obs, reward, done, info = self.game.step(action)\n",
    "\n",
    "        #want to preprocess the observation\n",
    "        obs = self.preprocess(obs)\n",
    "\n",
    "        #frame delta: pixel change\n",
    "        frame_delta = obs - self.previous_frame\n",
    "        self.previous_frame = obs\n",
    "\n",
    "        #reshape the reward function. want the change in score, so we just subtract scores.\n",
    "        #what other info can the game give us?\n",
    "        reward = info['score'] - self.score\n",
    "        self.score = info['score']\n",
    "\n",
    "        return frame_delta, reward, done, info\n",
    "    \n",
    "    def reset(self):\n",
    "        # Return the first frame \n",
    "        obs = self.game.reset()\n",
    "        obs = self.preprocess(obs) \n",
    "        self.previous_frame = obs \n",
    "        \n",
    "        # Create a attribute to hold the score delta \n",
    "        self.score = 0 \n",
    "        return obs\n",
    "    \n",
    "    def close(self):\n",
    "        self.game.close()"
   ]
  },
  {
   "cell_type": "markdown",
   "metadata": {},
   "source": [
    "Hyperparameter tuning"
   ]
  },
  {
   "cell_type": "code",
   "execution_count": null,
   "metadata": {},
   "outputs": [],
   "source": [
    "\"\"\"setting up directories so that models from any trial are \n",
    "accessible and don't have to train from the beginninbg\"\"\"\n",
    "LOG_DIR = './DQNlogs/'\n",
    "OPT_DIR = './DQNopt/'"
   ]
  },
  {
   "cell_type": "code",
   "execution_count": null,
   "metadata": {},
   "outputs": [],
   "source": [
    "def objectiveDQN(trial):\n",
    "    return {\n",
    "        'gamma': trial.suggest_float('gamma',0.8,0.9999, log=True),\n",
    "        'learning_rate': trial.suggest_float('learning_rate',1e-5,1e-4, log=True),\n",
    "    }"
   ]
  },
  {
   "cell_type": "code",
   "execution_count": null,
   "metadata": {},
   "outputs": [],
   "source": [
    "def optimize_agent(trial):\n",
    "    #try:\n",
    "        #training loop\n",
    "        #obtain set of hyperparameters\n",
    "        model_params = objectiveA2C(trial)\n",
    "\n",
    "        #create environment\n",
    "        env = StreetFighter()\n",
    "        env = Monitor(env, LOG_DIR)\n",
    "        env =  DummyVecEnv([lambda:env])\n",
    "        env = VecFrameStack(env, 4, channels_order='last')\n",
    "        print(\"made env\")\n",
    "        model = A2C('CnnPolicy',env, tensorboard_log=LOG_DIR, verbose=0, **model_params)\n",
    "        #policy_kwargs=dict(normalize_images=False)\n",
    "        print(\"made model\")\n",
    "\n",
    "        model.learn(total_timesteps=1)\n",
    "        print(\"model learned\")\n",
    "\n",
    "\n",
    "        mean_reward, __ = evaluate_policy(model, env, n_eval_episodes=2)\n",
    "        env.close()\n",
    "\n",
    "        SAVE_PATH = os.path.join(OPT_DIR, 'trial_{}_best_model'.format(trial.number))\n",
    "        model.save(SAVE_PATH)\n",
    "        \n",
    "        return mean_reward\n",
    "    #except Exception as e:\n",
    "     #   return -1000\n",
    "    "
   ]
  },
  {
   "cell_type": "code",
   "execution_count": null,
   "metadata": {},
   "outputs": [],
   "source": [
    "#create the experiment/study. since returning a positive value, want to maximise the function. \n",
    "study = optuna.create_study(direction='maximize')\n",
    "\n",
    "#trials refers to how many sets of hyperparameters we are going to tune\n",
    "#the jobs param (may be deprecated soon) shows how many parallel environments \n",
    "#are trained at the same time. gym-retro is not available for parallelization\n",
    "study.optimize(optimize_agent, n_trials=2, n_jobs=1)"
   ]
  },
  {
   "cell_type": "code",
   "execution_count": null,
   "metadata": {},
   "outputs": [],
   "source": [
    "study.best_params\n",
    "study.best_trial"
   ]
  },
  {
   "cell_type": "code",
   "execution_count": null,
   "metadata": {},
   "outputs": [],
   "source": [
    "#how to load a model\n",
    "model = DQN.load(os.path.join(OPT_DIR, \"trial_0_best_model\"))"
   ]
  },
  {
   "cell_type": "code",
   "execution_count": null,
   "metadata": {},
   "outputs": [],
   "source": [
    "#callbacks are functions that is passed as an argument to another function or method\n",
    "\n",
    "class TrainAndLoggingCallback(BaseCallback):\n",
    "\n",
    "    def __init__(self, check_freq, save_path, verbose=1):\n",
    "        super(TrainAndLoggingCallback, self).__init__(verbose)\n",
    "        self.check_freq = check_freq\n",
    "        self.save_path = save_path\n",
    "\n",
    "    def _init_callback(self):\n",
    "        if self.save_path is not None:\n",
    "            os.makedirs(self.save_path, exist_ok=True)\n",
    "\n",
    "    def _on_step(self):\n",
    "        if self.n_calls % self.check_freq == 0:\n",
    "            model_path = os.path.join(self.save_path, 'best_model_{}'.format(self.n_calls))\n",
    "            self.model.save(model_path)\n",
    "\n",
    "        return True"
   ]
  },
  {
   "cell_type": "code",
   "execution_count": null,
   "metadata": {},
   "outputs": [],
   "source": [
    "CHECKPOINT_DIR = \"./DQNtrain/\""
   ]
  },
  {
   "cell_type": "code",
   "execution_count": null,
   "metadata": {},
   "outputs": [],
   "source": [
    "#save the model every 10,000 steps at checkpoint_dir\n",
    "callback = TrainAndLoggingCallback(check_freq=10000, save_path=CHECKPOINT_DIR)"
   ]
  },
  {
   "cell_type": "markdown",
   "metadata": {},
   "source": [
    "Training the Model"
   ]
  },
  {
   "cell_type": "code",
   "execution_count": null,
   "metadata": {},
   "outputs": [],
   "source": [
    "env = StreetFighter()\n",
    "env = Monitor(env, LOG_DIR)\n",
    "env = DummyVecEnv([lambda:env])\n",
    "env = VecFrameStack(env, 4, channels_order='last')"
   ]
  },
  {
   "cell_type": "code",
   "execution_count": null,
   "metadata": {},
   "outputs": [],
   "source": [
    "#create new instance of policy, using the best parameters\n",
    "model_params = study.best_params \n",
    "#set the number of steps, n_steps, to the nearest multiple of 64\n",
    "model_params['n_steps'] = 1920\n",
    "model_params\n"
   ]
  },
  {
   "cell_type": "code",
   "execution_count": null,
   "metadata": {},
   "outputs": [],
   "source": [
    "model = PPO('CnnPolicy',env, tensorboard_log=LOG_DIR, verbose=0, **model_params, policy_kwargs=dict(normalize_images=False))\n",
    "model.load(os.path.join(OPT_DIR, 'trial_1_best_model.zip'))\n",
    "model.learn(total_timesteps=100000, callback= callback)"
   ]
  },
  {
   "cell_type": "markdown",
   "metadata": {},
   "source": [
    "Evaluating the Model"
   ]
  },
  {
   "cell_type": "code",
   "execution_count": null,
   "metadata": {},
   "outputs": [],
   "source": [
    "model = PPO.load()"
   ]
  },
  {
   "cell_type": "code",
   "execution_count": null,
   "metadata": {},
   "outputs": [],
   "source": [
    "mean_reward, _ = evaluate_policy(model, env, render=True, n_eval_episodes=1)"
   ]
  },
  {
   "cell_type": "markdown",
   "metadata": {},
   "source": [
    "Testing the Model"
   ]
  },
  {
   "cell_type": "code",
   "execution_count": null,
   "metadata": {},
   "outputs": [],
   "source": [
    "# Reset game to starting state\n",
    "obs = env.reset()\n",
    "# Set flag to flase. Then predict using the model.\n",
    "done = False\n",
    "for game in range(1): \n",
    "    while not done: \n",
    "        if done: \n",
    "            obs = env.reset()\n",
    "        env.render()\n",
    "        action = model.predict(obs)[0]\n",
    "        obs, reward, done, info = env.step(action)\n",
    "        time.sleep(0.01)\n",
    "        print(reward)\n",
    "\n",
    "#Can also have a separate testing notebook alongside the training notebook \n",
    "# so you can test and train at the same time and check you are headed in the right \n",
    "# direction - so don't need to wait until the end to see if the model is performing well"
   ]
  }
 ],
 "metadata": {
  "language_info": {
   "name": "python"
  },
  "orig_nbformat": 4
 },
 "nbformat": 4,
 "nbformat_minor": 2
}
